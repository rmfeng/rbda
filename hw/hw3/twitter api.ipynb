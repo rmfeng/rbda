{
 "cells": [
  {
   "cell_type": "code",
   "execution_count": 1,
   "metadata": {},
   "outputs": [],
   "source": [
    "import twitter"
   ]
  },
  {
   "cell_type": "code",
   "execution_count": 10,
   "metadata": {},
   "outputs": [],
   "source": [
    "with open('keys') as f:\n",
    "    keys = f.read().split('\\n')"
   ]
  },
  {
   "cell_type": "code",
   "execution_count": 11,
   "metadata": {},
   "outputs": [],
   "source": [
    "cons_key = keys[0]\n",
    "cons_sec = keys[1]\n",
    "acc_tok_key = keys[2]\n",
    "acc_tok_sec = keys[3]"
   ]
  },
  {
   "cell_type": "code",
   "execution_count": 16,
   "metadata": {},
   "outputs": [],
   "source": [
    "api = twitter.Api(consumer_key=cons_key,\n",
    "                  consumer_secret=cons_sec,\n",
    "                  access_token_key=acc_tok_key,\n",
    "                  access_token_secret=acc_tok_sec)"
   ]
  },
  {
   "cell_type": "code",
   "execution_count": 17,
   "metadata": {},
   "outputs": [],
   "source": [
    "screen_name = '@nyuniversity'\n",
    "timeline =  api.GetUserTimeline(screen_name=screen_name, count=200)"
   ]
  },
  {
   "cell_type": "code",
   "execution_count": 20,
   "metadata": {
    "scrolled": false
   },
   "outputs": [
    {
     "data": {
      "text/plain": [
       "[Status(ID=1143587285331599361, ScreenName=nyuniversity, Created=Tue Jun 25 18:30:30 +0000 2019, Text='Using artificial intelligence, @nyutandon researchers found that more targeted, discriminatory tweets posted in a c… https://t.co/J6lbrMWQm7'),\n",
       " Status(ID=1143547650769412102, ScreenName=nyuniversity, Created=Tue Jun 25 15:53:00 +0000 2019, Text='RT @NYUAbuDhabi: A new game developed by a team of young students at NYU Abu Dhabi seeks to shine light on a rarely discussed aspect of art…')]"
      ]
     },
     "execution_count": 20,
     "metadata": {},
     "output_type": "execute_result"
    }
   ],
   "source": [
    "timeline[0:2]"
   ]
  },
  {
   "cell_type": "code",
   "execution_count": null,
   "metadata": {},
   "outputs": [],
   "source": []
  }
 ],
 "metadata": {
  "kernelspec": {
   "display_name": "Python 3",
   "language": "python",
   "name": "python3"
  },
  "language_info": {
   "codemirror_mode": {
    "name": "ipython",
    "version": 3
   },
   "file_extension": ".py",
   "mimetype": "text/x-python",
   "name": "python",
   "nbconvert_exporter": "python",
   "pygments_lexer": "ipython3",
   "version": "3.6.8"
  }
 },
 "nbformat": 4,
 "nbformat_minor": 2
}
